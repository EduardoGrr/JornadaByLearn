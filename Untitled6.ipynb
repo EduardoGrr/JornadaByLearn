{
  "nbformat": 4,
  "nbformat_minor": 0,
  "metadata": {
    "colab": {
      "name": "Untitled6.ipynb",
      "provenance": [],
      "collapsed_sections": [],
      "authorship_tag": "ABX9TyPg34w8ykLfjvtsuG4wWh9A",
      "include_colab_link": true
    },
    "kernelspec": {
      "name": "python3",
      "display_name": "Python 3"
    },
    "language_info": {
      "name": "python"
    }
  },
  "cells": [
    {
      "cell_type": "markdown",
      "metadata": {
        "id": "view-in-github",
        "colab_type": "text"
      },
      "source": [
        "<a href=\"https://colab.research.google.com/github/EduardoGrr/JornadaByLearn/blob/main/Untitled6.ipynb\" target=\"_parent\"><img src=\"https://colab.research.google.com/assets/colab-badge.svg\" alt=\"Open In Colab\"/></a>"
      ]
    },
    {
      "cell_type": "code",
      "metadata": {
        "colab": {
          "base_uri": "https://localhost:8080/"
        },
        "id": "cTIGTfY1Dfjp",
        "outputId": "0eb02f1a-602b-4a0e-bf24-7f4e5002f83c"
      },
      "source": [
        "print(\"Hello Python World!\")"
      ],
      "execution_count": 1,
      "outputs": [
        {
          "output_type": "stream",
          "name": "stdout",
          "text": [
            "Hello Python World!\n"
          ]
        }
      ]
    },
    {
      "cell_type": "code",
      "metadata": {
        "colab": {
          "base_uri": "https://localhost:8080/"
        },
        "id": "osEegbQqFzWZ",
        "outputId": "fc1780bb-879e-4d59-fead-2c6240b7bb0d"
      },
      "source": [
        "print(9+10)"
      ],
      "execution_count": 2,
      "outputs": [
        {
          "output_type": "stream",
          "name": "stdout",
          "text": [
            "19\n"
          ]
        }
      ]
    },
    {
      "cell_type": "code",
      "metadata": {
        "colab": {
          "base_uri": "https://localhost:8080/"
        },
        "id": "l_Q-xsC2Jeeh",
        "outputId": "32aa7d65-94b7-4ae1-f46b-e07758641b6c"
      },
      "source": [
        "print(\"Seus valores precisam ser Inteiros\")\n",
        "\n",
        "a = int(input(\"Digite um valor:\"))\n",
        "b = int(input(\"Digite um valor:\"))\n",
        "c = int(input(\"Digite um valor:\"))\n",
        "\n",
        "soma = a + b + c\n",
        "print(soma)"
      ],
      "execution_count": 12,
      "outputs": [
        {
          "output_type": "stream",
          "name": "stdout",
          "text": [
            "Digite um valor:1\n",
            "Digite um valor:2\n",
            "Digite um valor:3\n",
            "6\n"
          ]
        }
      ]
    },
    {
      "cell_type": "code",
      "metadata": {
        "colab": {
          "base_uri": "https://localhost:8080/"
        },
        "id": "n7C5u9fGLxYz",
        "outputId": "ee5aef0d-0456-4281-f01f-3be995ce0f15"
      },
      "source": [
        "print(\"Seus valores precisam ser Inteiros\")\n",
        "\n",
        "a = int(input(\"Digite um valor:\"))\n",
        "b = int(input(\"Digite um valor:\"))\n",
        "c = int(input(\"Digite um valor:\"))\n",
        "\n",
        "subtracao = a - b - c\n",
        "print(subtracao)"
      ],
      "execution_count": 13,
      "outputs": [
        {
          "output_type": "stream",
          "name": "stdout",
          "text": [
            "Digite um valor:2\n",
            "Digite um valor:10\n",
            "Digite um valor:19\n",
            "-27\n"
          ]
        }
      ]
    },
    {
      "cell_type": "code",
      "metadata": {
        "colab": {
          "base_uri": "https://localhost:8080/"
        },
        "id": "U3vpeNTqOCOR",
        "outputId": "3cf932f9-9b92-47fd-d218-8b4789c2d0d5"
      },
      "source": [
        "print(\"Seus valores precisam ser Inteiros\")\n",
        "\n",
        "a = int(input(\"Primeiro valor:\"))\n",
        "b = int(input(\"Segundo valor:\"))\n",
        "c = int(input(\"Terceiro valor:\"))\n",
        "\n",
        "multiplique = a * b * c\n",
        "divide = multiplique/3\n",
        "\n",
        "print(\"A multiplicação é:\",multiplique)\n",
        "print(\"A divisão é:\",divide)\n"
      ],
      "execution_count": 27,
      "outputs": [
        {
          "output_type": "stream",
          "name": "stdout",
          "text": [
            "Seus valores precisam ser Inteiros\n",
            "Primeiro valor:2\n",
            "Segundo valor:4\n",
            "Terceiro valor:6\n",
            "A multiplicação é: 48\n",
            "A divisão é: 16.0\n"
          ]
        }
      ]
    },
    {
      "cell_type": "code",
      "metadata": {
        "colab": {
          "base_uri": "https://localhost:8080/"
        },
        "id": "VJFhUZ0zRDDw",
        "outputId": "5540cc06-22a2-405e-ec81-1e68c0a2a08d"
      },
      "source": [
        "print(\"Digite apenas valores inteiros\")\n",
        "\n",
        "print(\"---------------- XD ------------------\")\n",
        "\n",
        "x = int(input(\"Digite o valor de X:\"))\n",
        "y = int(input(\"Digite o valor de Y:\"))\n",
        "z = int(input(\"Digite o valor de Z:\"))\n",
        "\n",
        "print(\"---------------- XD ------------------\")\n",
        "\n",
        "Iop = x** y - z\n",
        "print(\"O resultado da sua primeira operação é:\",Iop)\n",
        "\n",
        "IIop = x** 2 + y ** (z+1)\n",
        "print(\"O resultado da sua segunda operação é:\",IIop)\n",
        "\n",
        "IIIop = (z * 4) + x/2 + y**(1/2)\n",
        "print(\"O resultado da sua terceira operação é:\",IIIop)\n",
        "\n",
        "IVop = (x**z) - y\n",
        "print(\"O resultado da sua quarta operação é:\",IVop)\n",
        "\n",
        "Vop = b = (x**y)/(1 - x * y)\n",
        "print('O Valor de \"b\" na quinta operação é:',Vop)\n",
        "print('Tendo em mãos o valor de \"b\"(',b,')','agora iremos encontrar o valor de sexta operação')\n",
        "\n",
        "import math\n",
        "\n",
        "a = int(input(\"Digite o valor de a:\"))\n",
        "wt = int(input(\"Insira o wt:\"))\n",
        "\n",
        "a = (a * b)/(math.sin(wt)**(1/2))\n",
        "print('O resultado da sua sexta operação é:',a)"
      ],
      "execution_count": 50,
      "outputs": [
        {
          "output_type": "stream",
          "name": "stdout",
          "text": [
            "Digite apenas valores inteiros\n",
            "---------------- XD ------------------\n",
            "Digite o valor de X:4\n",
            "Digite o valor de Y:2\n",
            "Digite o valor de Z:4\n",
            "---------------- XD ------------------\n",
            "O resultado da sua primeira operação é: 12\n",
            "O resultado da sua segunda operação é: 48\n",
            "O resultado da sua terceira operação é: 19.414213562373096\n",
            "O resultado da sua quarta operação é: 254\n",
            "O Valor de \"b\" na quinta operação é: -2.2857142857142856\n",
            "Tendo em mãos o valor de \"b\"( -2.2857142857142856 ) agora iremos encontrar o valor de sexta operação\n",
            "Digite o valor de a:16\n",
            "Insira o wt:45\n",
            "O resultado da sua sexta operação é: -39.64621794105822\n"
          ]
        }
      ]
    }
  ]
}